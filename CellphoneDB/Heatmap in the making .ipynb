{
 "cells": [
  {
   "cell_type": "markdown",
   "metadata": {},
   "source": [
    "# TRAIN"
   ]
  },
  {
   "cell_type": "code",
   "execution_count": 1,
   "metadata": {
    "scrolled": true
   },
   "outputs": [
    {
     "data": {
      "text/html": [
       "<div>\n",
       "<style scoped>\n",
       "    .dataframe tbody tr th:only-of-type {\n",
       "        vertical-align: middle;\n",
       "    }\n",
       "\n",
       "    .dataframe tbody tr th {\n",
       "        vertical-align: top;\n",
       "    }\n",
       "\n",
       "    .dataframe thead th {\n",
       "        text-align: right;\n",
       "    }\n",
       "</style>\n",
       "<table border=\"1\" class=\"dataframe\">\n",
       "  <thead>\n",
       "    <tr style=\"text-align: right;\">\n",
       "      <th></th>\n",
       "      <th>leiden</th>\n",
       "      <th>celltype</th>\n",
       "    </tr>\n",
       "  </thead>\n",
       "  <tbody>\n",
       "    <tr>\n",
       "      <th>AAACCTGCAAGCCTAT-1</th>\n",
       "      <td>13</td>\n",
       "      <td>3 mye 2 TAM</td>\n",
       "    </tr>\n",
       "    <tr>\n",
       "      <th>AAACCTGCACAGAGGT-1</th>\n",
       "      <td>15</td>\n",
       "      <td>2 lymph 1 NK2</td>\n",
       "    </tr>\n",
       "    <tr>\n",
       "      <th>AAACCTGCATGCCTTC-1</th>\n",
       "      <td>3</td>\n",
       "      <td>3 mye 2 TAM</td>\n",
       "    </tr>\n",
       "    <tr>\n",
       "      <th>AAACCTGGTAAGTGTA-1</th>\n",
       "      <td>6</td>\n",
       "      <td>Unknown</td>\n",
       "    </tr>\n",
       "    <tr>\n",
       "      <th>AAACCTGGTCAATGTC-1</th>\n",
       "      <td>8</td>\n",
       "      <td>Unknown</td>\n",
       "    </tr>\n",
       "  </tbody>\n",
       "</table>\n",
       "</div>"
      ],
      "text/plain": [
       "                    leiden       celltype\n",
       "AAACCTGCAAGCCTAT-1      13    3 mye 2 TAM\n",
       "AAACCTGCACAGAGGT-1      15  2 lymph 1 NK2\n",
       "AAACCTGCATGCCTTC-1       3    3 mye 2 TAM\n",
       "AAACCTGGTAAGTGTA-1       6        Unknown\n",
       "AAACCTGGTCAATGTC-1       8        Unknown"
      ]
     },
     "metadata": {},
     "output_type": "display_data"
    },
    {
     "name": "stdout",
     "output_type": "stream",
     "text": [
      "(60854, 2)\n"
     ]
    }
   ],
   "source": [
    "import pandas as pd\n",
    "import numpy as np\n",
    "\n",
    "fetaldf = pd.read_csv('fetalcelltype2.csv',index_col=0)\n",
    "display(fetaldf.head())\n",
    "print(fetaldf.shape)"
   ]
  },
  {
   "cell_type": "code",
   "execution_count": 2,
   "metadata": {},
   "outputs": [],
   "source": [
    "import seaborn as sns\n",
    "import matplotlib\n",
    "import matplotlib.pyplot as plt\n",
    "\n",
    "cmap = matplotlib.cm.ocean.reversed()\n",
    "\n",
    "def make_cmap(colors, position=None, bit=False):\n",
    "    '''\n",
    "    make_cmap takes a list of tuples which contain RGB values. The RGB\n",
    "    values may either be in 8-bit [0 to 255] (in which bit must be set to\n",
    "    True when called) or arithmetic [0 to 1] (default). make_cmap returns\n",
    "    a cmap with equally spaced colors.\n",
    "    Arrange your tuples so that the first color is the lowest value for the\n",
    "    colorbar and the last is the highest.\n",
    "    position contains values from 0 to 1 to dictate the location of each color.\n",
    "    '''\n",
    "    import matplotlib as mpl\n",
    "    import numpy as np\n",
    "    bit_rgb = np.linspace(0,1,256)\n",
    "    if position == None:\n",
    "        position = np.linspace(0,1,len(colors))\n",
    "    else:\n",
    "        if len(position) != len(colors):\n",
    "            sys.exit(\"position length must be the same as colors\")\n",
    "        elif position[0] != 0 or position[-1] != 1:\n",
    "            sys.exit(\"position must start with 0 and end with 1\")\n",
    "    if bit:\n",
    "        for i in range(len(colors)):\n",
    "            colors[i] = (bit_rgb[colors[i][0]],\n",
    "                         bit_rgb[colors[i][1]],\n",
    "                         bit_rgb[colors[i][2]])\n",
    "    cdict = {'red':[], 'green':[], 'blue':[]}\n",
    "    for pos, color in zip(position, colors):\n",
    "        cdict['red'].append((pos, color[0], color[0]))\n",
    "        cdict['green'].append((pos, color[1], color[1]))\n",
    "        cdict['blue'].append((pos, color[2], color[2]))\n",
    "\n",
    "    cmap = mpl.colors.LinearSegmentedColormap('my_colormap',cdict,256)\n",
    "    return cmap\n",
    "\n",
    "fig = plt.figure()\n",
    "ax = fig.add_subplot(311)\n",
    "### Create a list of RGB tuples\n",
    "colors = [(239, 248, 249), (252, 78, 78),(96, 33, 104),(0,0,0)]  # This example uses the 8-bit RGB\n",
    "### Call the function make_cmap which returns your colormap\n",
    "my_cmap = make_cmap(colors, bit=True)\n",
    "### Use your colormap\n",
    "plt.pcolor(np.random.rand(25,50), cmap=my_cmap)\n",
    "plt.colorbar()\n",
    "\n",
    "def sns_heatmap(df,title,subtitle):\n",
    "    mat = pd.DataFrame()\n",
    "\n",
    "    for i in range(df.shape[1]):\n",
    "        if i==df.shape[1]-1:\n",
    "            break\n",
    "        for j in range(df.shape[0]):\n",
    "            a = []\n",
    "            for k in range(df.shape[0]):\n",
    "                if j == k:\n",
    "                    a.append(df.iloc[j,i]*df.iloc[k,i+1])\n",
    "                else :\n",
    "                    a.append(0)\n",
    "            mat[j]=a\n",
    "\n",
    "    mat.columns = df.index\n",
    "    mat.index = df.index\n",
    "\n",
    "    mat = mat.rename_axis(df.columns[1])\n",
    "    mat = mat.rename_axis(df.columns[0], axis=\"columns\")\n",
    "\n",
    "    f, ax = plt.subplots()\n",
    "    sns.heatmap(mat,vmax=1500, vmin=-1, cmap=my_cmap)#\n",
    "    plt.title(title, fontsize=20)\n",
    "    plt.suptitle(subtitle, fontsize=12)\n",
    "\n",
    "    ax.xaxis.set_tick_params(labelsize=8)\n",
    "    ax.yaxis.set_tick_params(labelsize=8)\n",
    "\n"
   ]
  },
  {
   "cell_type": "code",
   "execution_count": 3,
   "metadata": {},
   "outputs": [
    {
     "name": "stdout",
     "output_type": "stream",
     "text": [
      "Previous size: [6.0, 4.0]\n",
      "Current size: [12, 12]\n"
     ]
    }
   ],
   "source": [
    "fig_size = plt.rcParams[\"figure.figsize\"]\n",
    "# Prints: [8.0, 6.0]\n",
    "print (\"Previous size:\", fig_size)\n",
    " \n",
    "# Set figure width to 12 and height to 9\n",
    "fig_size[0] = 12\n",
    "fig_size[1] = 12\n",
    "plt.rcParams[\"figure.figsize\"] = fig_size\n",
    "\n",
    "print (\"Current size:\", fig_size)"
   ]
  },
  {
   "cell_type": "code",
   "execution_count": 4,
   "metadata": {},
   "outputs": [
    {
     "data": {
      "text/plain": [
       "<matplotlib.axes._subplots.AxesSubplot at 0x1880f08ce80>"
      ]
     },
     "execution_count": 4,
     "metadata": {},
     "output_type": "execute_result"
    },
    {
     "data": {
      "image/png": "[encoded data removed]",
      "text/plain": [
       "<Figure size 864x864 with 2 Axes>"
      ]
     },
     "metadata": {
      "needs_background": "light"
     },
     "output_type": "display_data"
    }
   ],
   "source": [
    "fetaldf1 = fetaldf.groupby(['leiden','celltype']).size().unstack().fillna(0).round(0).astype(int).transpose()\n",
    "\n",
    "#fetaldf1 = fetaldf1.drop(['Unknown'], axis=0)\n",
    "\n",
    "fetaldf1 = fetaldf1.apply(lambda x : x/sum(x)*100).round(0).astype(int)\n",
    "\n",
    "sns.heatmap(fetaldf1)#, annot=True)#, vmax = 500, fmt=\"d\", linewidths=.01)#, linewidths=.009)#cmap=\"YlGnBu\", \n",
    "#plt.title('\\nHCC cell type agnostic correlation\\n', fontsize=20)"
   ]
  },
  {
   "cell_type": "markdown",
   "metadata": {},
   "source": [
    "#  "
   ]
  },
  {
   "cell_type": "markdown",
   "metadata": {},
   "source": [
    "#  TEST"
   ]
  },
  {
   "cell_type": "code",
   "execution_count": 21,
   "metadata": {},
   "outputs": [
    {
     "data": {
      "text/html": [
       "<div>\n",
       "<style scoped>\n",
       "    .dataframe tbody tr th:only-of-type {\n",
       "        vertical-align: middle;\n",
       "    }\n",
       "\n",
       "    .dataframe tbody tr th {\n",
       "        vertical-align: top;\n",
       "    }\n",
       "\n",
       "    .dataframe thead th {\n",
       "        text-align: right;\n",
       "    }\n",
       "</style>\n",
       "<table border=\"1\" class=\"dataframe\">\n",
       "  <thead>\n",
       "    <tr style=\"text-align: right;\">\n",
       "      <th></th>\n",
       "      <th>cluster_ext_type</th>\n",
       "      <th>CellType</th>\n",
       "    </tr>\n",
       "  </thead>\n",
       "  <tbody>\n",
       "    <tr>\n",
       "      <th>AAGTCTGTCATCTGCC-1</th>\n",
       "      <td>DC2</td>\n",
       "      <td>DC2</td>\n",
       "    </tr>\n",
       "    <tr>\n",
       "      <th>ACTTTCACAGTCTTCC-1</th>\n",
       "      <td>DC2</td>\n",
       "      <td>pDC</td>\n",
       "    </tr>\n",
       "    <tr>\n",
       "      <th>ACTTTCAGTCCCTACT-1</th>\n",
       "      <td>TAM1</td>\n",
       "      <td>FLM</td>\n",
       "    </tr>\n",
       "    <tr>\n",
       "      <th>CAACTAGCACCCTATC-1</th>\n",
       "      <td>DC2</td>\n",
       "      <td>DC2</td>\n",
       "    </tr>\n",
       "    <tr>\n",
       "      <th>CCTTCCCTCGCCTGTT-1</th>\n",
       "      <td>Monocyte</td>\n",
       "      <td>Monocytes</td>\n",
       "    </tr>\n",
       "  </tbody>\n",
       "</table>\n",
       "</div>"
      ],
      "text/plain": [
       "                   cluster_ext_type   CellType\n",
       "AAGTCTGTCATCTGCC-1              DC2        DC2\n",
       "ACTTTCACAGTCTTCC-1              DC2        pDC\n",
       "ACTTTCAGTCCCTACT-1             TAM1        FLM\n",
       "CAACTAGCACCCTATC-1              DC2        DC2\n",
       "CCTTCCCTCGCCTGTT-1         Monocyte  Monocytes"
      ]
     },
     "metadata": {},
     "output_type": "display_data"
    },
    {
     "name": "stdout",
     "output_type": "stream",
     "text": [
      "(9307, 2)\n"
     ]
    }
   ],
   "source": [
    "myedf = pd.read_csv('./mye/test_cluster_ext_type.csv',index_col=0)\n",
    "display(myedf.head())\n",
    "print(myedf.shape)"
   ]
  },
  {
   "cell_type": "code",
   "execution_count": 37,
   "metadata": {},
   "outputs": [
    {
     "data": {
      "text/plain": [
       "<matplotlib.axes._subplots.AxesSubplot at 0x1f08a175d30>"
      ]
     },
     "execution_count": 37,
     "metadata": {},
     "output_type": "execute_result"
    },
    {
     "data": {
      "image/png": "[encoded data removed]",
      "text/plain": [
       "<Figure size 864x432 with 2 Axes>"
      ]
     },
     "metadata": {
      "needs_background": "light"
     },
     "output_type": "display_data"
    }
   ],
   "source": [
    "myedf1 = myedf.groupby(['cluster_ext_type','CellType']).size().unstack().fillna(0).round(0).astype(int)\n",
    "\n",
    "myedf1 = myedf1.drop(['Unknown'], axis=0)\n",
    "#myedf1 = myedf1.drop(['Fetal CMP'], axis=0)\n",
    "\n",
    "myedf1 = myedf1[['Fetal CMP','DC1','DC2','Fetal DC2','Monocytes','Fetal Monocytes','Megakaryocytes','TAM1','FLM','TAM2','TAM3','pDC']]\n",
    "\n",
    "myedf1 = myedf1.apply(lambda x : x/sum(x)*100, axis=0).round(0).astype(int)\n",
    "\n",
    "sns.heatmap(myedf1)#, annot=True)#, vmax = 500, fmt=\"d\", linewidths=.01)#, linewidths=.009)#cmap=\"YlGnBu\", \n",
    "#plt.title('\\nHCC cell type agnostic correlation\\n', fontsize=20)"
   ]
  },
  {
   "cell_type": "code",
   "execution_count": 33,
   "metadata": {},
   "outputs": [
    {
     "data": {
      "text/html": [
       "<div>\n",
       "<style scoped>\n",
       "    .dataframe tbody tr th:only-of-type {\n",
       "        vertical-align: middle;\n",
       "    }\n",
       "\n",
       "    .dataframe tbody tr th {\n",
       "        vertical-align: top;\n",
       "    }\n",
       "\n",
       "    .dataframe thead th {\n",
       "        text-align: right;\n",
       "    }\n",
       "</style>\n",
       "<table border=\"1\" class=\"dataframe\">\n",
       "  <thead>\n",
       "    <tr style=\"text-align: right;\">\n",
       "      <th>CellType</th>\n",
       "      <th>DC1</th>\n",
       "      <th>DC2</th>\n",
       "      <th>FLM</th>\n",
       "      <th>Fetal CMP</th>\n",
       "      <th>Fetal DC2</th>\n",
       "      <th>Fetal Monocytes</th>\n",
       "      <th>Megakaryocytes</th>\n",
       "      <th>Monocytes</th>\n",
       "      <th>TAM1</th>\n",
       "      <th>TAM2</th>\n",
       "      <th>TAM3</th>\n",
       "      <th>pDC</th>\n",
       "    </tr>\n",
       "    <tr>\n",
       "      <th>cluster_ext_type</th>\n",
       "      <th></th>\n",
       "      <th></th>\n",
       "      <th></th>\n",
       "      <th></th>\n",
       "      <th></th>\n",
       "      <th></th>\n",
       "      <th></th>\n",
       "      <th></th>\n",
       "      <th></th>\n",
       "      <th></th>\n",
       "      <th></th>\n",
       "      <th></th>\n",
       "    </tr>\n",
       "  </thead>\n",
       "  <tbody>\n",
       "    <tr>\n",
       "      <th>DC1</th>\n",
       "      <td>41</td>\n",
       "      <td>4</td>\n",
       "      <td>0</td>\n",
       "      <td>34</td>\n",
       "      <td>23</td>\n",
       "      <td>4</td>\n",
       "      <td>3</td>\n",
       "      <td>8</td>\n",
       "      <td>1</td>\n",
       "      <td>3</td>\n",
       "      <td>7</td>\n",
       "      <td>29</td>\n",
       "    </tr>\n",
       "    <tr>\n",
       "      <th>DC2</th>\n",
       "      <td>57</td>\n",
       "      <td>87</td>\n",
       "      <td>0</td>\n",
       "      <td>30</td>\n",
       "      <td>48</td>\n",
       "      <td>0</td>\n",
       "      <td>0</td>\n",
       "      <td>3</td>\n",
       "      <td>12</td>\n",
       "      <td>3</td>\n",
       "      <td>10</td>\n",
       "      <td>11</td>\n",
       "    </tr>\n",
       "    <tr>\n",
       "      <th>Monocyte</th>\n",
       "      <td>0</td>\n",
       "      <td>2</td>\n",
       "      <td>0</td>\n",
       "      <td>17</td>\n",
       "      <td>11</td>\n",
       "      <td>93</td>\n",
       "      <td>67</td>\n",
       "      <td>77</td>\n",
       "      <td>0</td>\n",
       "      <td>0</td>\n",
       "      <td>1</td>\n",
       "      <td>1</td>\n",
       "    </tr>\n",
       "    <tr>\n",
       "      <th>TAM1</th>\n",
       "      <td>0</td>\n",
       "      <td>2</td>\n",
       "      <td>100</td>\n",
       "      <td>2</td>\n",
       "      <td>1</td>\n",
       "      <td>0</td>\n",
       "      <td>0</td>\n",
       "      <td>0</td>\n",
       "      <td>75</td>\n",
       "      <td>13</td>\n",
       "      <td>22</td>\n",
       "      <td>0</td>\n",
       "    </tr>\n",
       "    <tr>\n",
       "      <th>TAM2</th>\n",
       "      <td>0</td>\n",
       "      <td>0</td>\n",
       "      <td>0</td>\n",
       "      <td>0</td>\n",
       "      <td>2</td>\n",
       "      <td>0</td>\n",
       "      <td>0</td>\n",
       "      <td>3</td>\n",
       "      <td>5</td>\n",
       "      <td>66</td>\n",
       "      <td>14</td>\n",
       "      <td>0</td>\n",
       "    </tr>\n",
       "    <tr>\n",
       "      <th>TAM3</th>\n",
       "      <td>0</td>\n",
       "      <td>4</td>\n",
       "      <td>0</td>\n",
       "      <td>11</td>\n",
       "      <td>7</td>\n",
       "      <td>3</td>\n",
       "      <td>28</td>\n",
       "      <td>4</td>\n",
       "      <td>7</td>\n",
       "      <td>14</td>\n",
       "      <td>44</td>\n",
       "      <td>2</td>\n",
       "    </tr>\n",
       "    <tr>\n",
       "      <th>pDC</th>\n",
       "      <td>1</td>\n",
       "      <td>2</td>\n",
       "      <td>0</td>\n",
       "      <td>7</td>\n",
       "      <td>9</td>\n",
       "      <td>0</td>\n",
       "      <td>2</td>\n",
       "      <td>4</td>\n",
       "      <td>0</td>\n",
       "      <td>0</td>\n",
       "      <td>1</td>\n",
       "      <td>56</td>\n",
       "    </tr>\n",
       "  </tbody>\n",
       "</table>\n",
       "</div>"
      ],
      "text/plain": [
       "CellType          DC1  DC2  FLM  Fetal CMP  Fetal DC2  Fetal Monocytes  \\\n",
       "cluster_ext_type                                                         \n",
       "DC1                41    4    0         34         23                4   \n",
       "DC2                57   87    0         30         48                0   \n",
       "Monocyte            0    2    0         17         11               93   \n",
       "TAM1                0    2  100          2          1                0   \n",
       "TAM2                0    0    0          0          2                0   \n",
       "TAM3                0    4    0         11          7                3   \n",
       "pDC                 1    2    0          7          9                0   \n",
       "\n",
       "CellType          Megakaryocytes  Monocytes  TAM1  TAM2  TAM3  pDC  \n",
       "cluster_ext_type                                                    \n",
       "DC1                            3          8     1     3     7   29  \n",
       "DC2                            0          3    12     3    10   11  \n",
       "Monocyte                      67         77     0     0     1    1  \n",
       "TAM1                           0          0    75    13    22    0  \n",
       "TAM2                           0          3     5    66    14    0  \n",
       "TAM3                          28          4     7    14    44    2  \n",
       "pDC                            2          4     0     0     1   56  "
      ]
     },
     "execution_count": 33,
     "metadata": {},
     "output_type": "execute_result"
    }
   ],
   "source": [
    "myedf1"
   ]
  },
  {
   "cell_type": "code",
   "execution_count": 35,
   "metadata": {},
   "outputs": [],
   "source": [
    "myedf1 = myedf1[['Fetal CMP','DC1','DC2','Fetal DC2','Monocytes','Fetal Monocytes','Megakaryocytes',\n",
    "                 'TAM1','FLM','TAM2','TAM3','pDC']]"
   ]
  },
  {
   "cell_type": "code",
   "execution_count": 36,
   "metadata": {},
   "outputs": [
    {
     "data": {
      "text/plain": [
       "<matplotlib.axes._subplots.AxesSubplot at 0x1f08a077978>"
      ]
     },
     "execution_count": 36,
     "metadata": {},
     "output_type": "execute_result"
    },
    {
     "data": {
      "image/png": "[encoded data removed]",
      "text/plain": [
       "<Figure size 864x432 with 2 Axes>"
      ]
     },
     "metadata": {
      "needs_background": "light"
     },
     "output_type": "display_data"
    }
   ],
   "source": [
    "sns.heatmap(myedf1)"
   ]
  }
 ],
 "metadata": {
  "kernelspec": {
   "display_name": "Python 3",
   "language": "python",
   "name": "python3"
  },
  "language_info": {
   "codemirror_mode": {
    "name": "ipython",
    "version": 3
   },
   "file_extension": ".py",
   "mimetype": "text/x-python",
   "name": "python",
   "nbconvert_exporter": "python",
   "pygments_lexer": "ipython3",
   "version": "3.6.6"
  }
 },
 "nbformat": 4,
 "nbformat_minor": 2
}
